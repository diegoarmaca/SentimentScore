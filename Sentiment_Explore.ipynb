{
 "cells": [
  {
   "cell_type": "markdown",
   "metadata": {},
   "source": [
    "# Improving movie rating prediction"
   ]
  },
  {
   "cell_type": "markdown",
   "metadata": {},
   "source": [
    "Question: How can we improve the movie rating prediction?\n",
    "In the exploration part of the assignment, we intend to find ways to improve the rating prediction model. On the way of sharpening the prediction, we also prepared the dataset to subsets of test set and training set. We then use the test set to test to model trained by the training set. After that, we sharpened the model to better predict the movie rating. Therefore, the test is done twice—one for the original prediction, and another for the sharpened prediction. We then have the test results of the two for comparison. CSV files and the visualization of the findings will also be presented. "
   ]
  },
  {
   "cell_type": "markdown",
   "metadata": {},
   "source": [
    "## 1. Importing necessary libraries "
   ]
  },
  {
   "cell_type": "markdown",
   "metadata": {},
   "source": [
    "We used of a list of libraries that allows us to perform actions without spending extensive of time to write our own code. _pandas_ is used for loading and reading CSV tables, and matplotlib is used to visualize our findings."
   ]
  },
  {
   "cell_type": "code",
   "execution_count": 1,
   "metadata": {},
   "outputs": [],
   "source": [
    "from typing import TextIO, List, Union, Dict, Tuple\n",
    "import doctest\n",
    "from sentiment import *\n",
    "from random import shuffle\n",
    "import csv\n",
    "import sys\n",
    "import math\n",
    "\n",
    "import pandas as pd\n",
    "import matplotlib.pyplot as plt"
   ]
  },
  {
   "cell_type": "markdown",
   "metadata": {},
   "source": [
    "## 2. Partitioning dataset into \"test\" and \"training\" subsets\n",
    "We split the given dataset into two subsets for testing and training with the ratio of 20 : 80. The ratio is custimizable by changing the test_size variable of partition_dataset function. The dataset is shuffled before the splitting to ensure the randomness of each sample. However, the ratio of the movie rating scores is kept representative of the population dataset."
   ]
  },
  {
   "cell_type": "code",
   "execution_count": 2,
   "metadata": {},
   "outputs": [],
   "source": [
    "def partition_dataset(file:TextIO, file_name:str, test_size:float) -> Dict:\n",
    "    \"\"\"Precondition: test_size > 0.0 and < 1.0 (one decimal)\n",
    "    Create two datasets sorted randomly from the original. The test_dataset has the size\n",
    "    requested in test_size, and the trainin_dataset has the remaining size.\n",
    "    Print a message e.g., \"The files: test_data.txt and training_data.txt were created\",\n",
    "    and return a dictionary e.g., {'test': 'test_data.txt', 'training': 'training_data.txt'}\n",
    "    \n",
    "    >>> file_names = partition_dataset(open('full.txt', 'r'), 'data', 0.2)\n",
    "    The files: test_data.txt and training_data.txt were created\n",
    "    >>> file_names\n",
    "    {'test': 'test_data.txt', 'training': 'training_data.txt'}\n",
    "    \"\"\"\n",
    "    all_reviews = file.readlines()\n",
    "    shuffle(all_reviews)\n",
    "    rating_counts = {}\n",
    "    test_set = []\n",
    "    training_set = []\n",
    "    for review in all_reviews:\n",
    "        if review[0] in rating_counts:\n",
    "            rating_counts[review[0]].append(review)\n",
    "        else:\n",
    "            rating_counts[review[0]] = [review]\n",
    "    for rating, reviews in rating_counts.items():\n",
    "        length_of_test_data = round(len(reviews) * (test_size))\n",
    "        test_set.extend(reviews[:length_of_test_data])\n",
    "        training_set.extend(reviews[length_of_test_data:])\n",
    "    test_file_name = \"test_\" + file_name + \".txt\"\n",
    "    training_file_name = \"training_\" + file_name + \".txt\"\n",
    "\n",
    "    with open(test_file_name, 'w') as test_file:\n",
    "        for row in test_set:\n",
    "            test_file.write(row)\n",
    "\n",
    "    with open(training_file_name, 'w') as training_file:\n",
    "        for row in training_set: \n",
    "            training_file.write(row)\n",
    "\n",
    "    print('The files: '+ test_file_name + ' and ' + training_file_name + ' were created')\n",
    "    return {'test':test_file_name, 'training':training_file_name}"
   ]
  },
  {
   "cell_type": "markdown",
   "metadata": {},
   "source": [
    "## 3. Sharpening the model\n",
    "In the many ways we have tried, we found that removing the given common words and neutral words improves the prediction model. We removed the common words from the kss dictionary because they may dilute the impact of more context specific words. [Why removing neutral words]"
   ]
  },
  {
   "cell_type": "code",
   "execution_count": 3,
   "metadata": {},
   "outputs": [],
   "source": [
    "def sharpen_model(common_words_file:TextIO ,kss: Dict[str, List[int]])->Dict:\n",
    "    \"\"\"Sharpen the prediction model by removing neutral words and common words from kss dictionary. \n",
    "    Return kss_sharpened as the sharpened kss dictionary.\n",
    "    \"\"\"\n",
    "    common_words_file = common_words_file.read().splitlines()\n",
    "    kss_sharpened = {}\n",
    "    for word, value in kss.items():\n",
    "        if (judge(value[0]/value[1]) != 'neutral') or (word not in common_words_file):\n",
    "            kss_sharpened[word] = value\n",
    "    return kss_sharpened"
   ]
  },
  {
   "cell_type": "markdown",
   "metadata": {},
   "source": [
    "## 4. Evaluating the models\n",
    "The following four functions gets four values that will be used to compare the the original prediction model and the sharpen prediction model. \n",
    "\n",
    "* **Predicted Sentiment Score:** A sentiment of a statement(review) determined by the model.\n",
    "\n",
    "* **Predicted Movie Rating:** Because the PSS is ratio value and the movie rating is ordinal value, the predict_movie_rating will use the PSS score to predict a movie rating in ordinal value. \n",
    "\n",
    "* **The absolute error:** The absolute error is the absolute difference between PSS and the actual rating\n",
    "\n",
    "* **Closeness evaluation:** is_close_eval is another way to tell us if a PSS is considered close to the actual rating. Here, we put the threshold as 0.05. The values of the actual score and the PSS are considered closed if the difference is smaller than 0.05.\n",
    "\n",
    "Then, report_errors will return a list of above four values for a review. Lastly, the report_mean_error function will return the mean error of all the errors between the actual scores and the predicted scores."
   ]
  },
  {
   "cell_type": "code",
   "execution_count": 4,
   "metadata": {},
   "outputs": [],
   "source": [
    "def predict_movie_rating(pss_score: float)->int:\n",
    "    \"\"\" Get the Predicted Sentiment Score and use it to predict the movie rating from a review statement. \n",
    "    >>> predict_movie_rating(2.8)\n",
    "    3\n",
    "    >>> predict_movie_rating(1.2)\n",
    "    1\n",
    "    \"\"\"\n",
    "    return int(round(pss_score))\n",
    "\n",
    "def is_close_eval(pss_score, actual_rating)-> bool:\n",
    "    \"\"\" Get the difference between the actual movie rating and the Predicted Sentiment Score and determine\n",
    "    if the difference is larger than 0.05. If the difference is larger than 0.05, return False. \n",
    "    If the difference is smaller than or equals to 0.05, return True.\n",
    "    >>> is_close_eval(2.05, 2)\n",
    "    True\n",
    "    >>> is_close_eval(2.02, 2)\n",
    "    True\n",
    "    >>> is_close_eval(3.05, 2)\n",
    "    False\n",
    "    \"\"\"\n",
    "    return math.isclose(pss_score, actual_rating, abs_tol=0.05)\n",
    "\n",
    "def report_errors(review: str, kss: Dict[str, List[int]])->List:\n",
    "    \"\"\" Return a list of scores for each review in the follow order: \n",
    "    1. the Predicted Sentiment Score, \n",
    "    2. the predicted movie rating, \n",
    "    3. the absolute difference between PSS and the actual rating, \n",
    "    4. a boolean value returned by is_close_eval()\n",
    "    \"\"\"\n",
    "    actual_rating = float(review[0])\n",
    "    absolute_errors = []\n",
    "    pss_score = statement_pss(review, kss)\n",
    "    review_scores = []\n",
    "    if pss_score != None:\n",
    "        is_close_val = is_close_eval(pss_score, actual_rating)\n",
    "        absolute_error = round((abs(float(pss_score) - actual_rating)), 2)\n",
    "        absolute_errors.append(absolute_error)\n",
    "        review_scores = [pss_score, predict_movie_rating(pss_score), absolute_error, is_close_val]\n",
    "        return review_scores\n",
    "\n",
    "def report_mean_error(absolute_errors:List[float]):\n",
    "    \"\"\" Return the mean abosolute error of a given list of error values.\n",
    "    >>> report_mean_error([1.56, 0.24, 0.69])\n",
    "    0.83\n",
    "    \"\"\"\n",
    "    if len(absolute_errors) != 0:\n",
    "        mean_absolute_error = round(sum(absolute_errors)/len(absolute_errors), 5)\n",
    "        return mean_absolute_error"
   ]
  },
  {
   "cell_type": "markdown",
   "metadata": {},
   "source": [
    "## 5. Compare the models\n",
    "After retrieving the four values for each model by the previous step, we can now use them to compare the original model and the sharpened model."
   ]
  },
  {
   "cell_type": "code",
   "execution_count": 5,
   "metadata": {},
   "outputs": [],
   "source": [
    "def compare_pss_models(test_file:TextIO, common_words_file:TextIO ,kss: Dict[str, List[int]], name_datasets) -> Dict:\n",
    "    \"\"\"Create a csv dataset with the comparison of the scores given by the kss model and the original ones. \n",
    "    Print the message \"The file: reviews_comparison.csv was created\" and return a dictionary with the \n",
    "    Mean_Absolute_Error(MAE) and Mean_Absolute_Error(MAE)_Sharpened of the dataset e.g., \n",
    "    {'Mean_Absolute_Error(MAE)': 1.00225, 'Mean_Absolute_Error(MAE)_Sharpened': 0.96186}\n",
    "    >>> file1 = open('full.txt', 'r')\n",
    "    >>> file2 = open('most_common_english_words.txt', 'r')\n",
    "    >>> kss = extract_kss(file1)\n",
    "    >>> testing_result = compare_pss_models(file1, file2, kss, 'data')\n",
    "    The file: reviews_data.csv was created\n",
    "    >>> file1.close()\n",
    "    >>> file2.close()\n",
    "    \"\"\"\n",
    "    scores_comparison = []\n",
    "    original_report_list = []\n",
    "    sharpened_report_list = []\n",
    "    original_absolute_errors = []\n",
    "    sharpened_absolute_errors = []\n",
    "    test_reviews = test_file.readlines()\n",
    "    \n",
    "    ### Sharpend kss by removing all common words\n",
    "    kss_sharpened = sharpen_model(common_words_file ,kss)\n",
    "   \n",
    "    # Iterate over each review in order to get predicted rating and MAE for kss and the sharpened version of kss          \n",
    "    for review in test_reviews:\n",
    "        statement = review[1:].strip()\n",
    "        original_report = report_errors(review, kss)\n",
    "        sharpened_report = report_errors(review, kss_sharpened)\n",
    "        if statement_pss(review, kss) != None and statement_pss(review, kss_sharpened):\n",
    "            original_report_list.append(original_report)\n",
    "            sharpened_report_list.append(sharpened_report)\n",
    "            original_absolute_errors.append(original_report[2])\n",
    "            sharpened_absolute_errors.append(sharpened_report[2])\n",
    "            scores_comparison.append([statement, review[0], \n",
    "                                      round(original_report[0],2), original_report[1], original_report[2], original_report[3], \n",
    "                                      round(sharpened_report[0],2), sharpened_report[1],sharpened_report[2], sharpened_report[3]])\n",
    "            \n",
    "    # Get mean absolute errors from the original and the sharpened model        \n",
    "    mean_absolute_error = report_mean_error(original_absolute_errors)\n",
    "    mean_absolute_error_sharpened = report_mean_error(sharpened_absolute_errors)\n",
    "\n",
    "    # Save all reviews with their predicted scores and MAE using kss and kss_sharpened     \n",
    "    with open('reviews_'+ name_datasets + '.csv', mode ='w') as comparison_file:\n",
    "        comparison_writer = csv.writer(comparison_file, delimiter=\",\", quotechar='\"', quoting = csv.QUOTE_MINIMAL)\n",
    "        comparison_writer.writerow([(\"Mean Absolute Error(MAE): \" + str(mean_absolute_error)), \n",
    "                                    (\"Mean Absolute Error(MAE)   Sharpened: \" + str(mean_absolute_error_sharpened))])\n",
    "        comparison_writer.writerow([\"-\",\"-\",\"-\",\"-\",\"-\"])\n",
    "        comparison_writer.writerow([\"Review\", \"Actual Rating\", \n",
    "                                    \"PSS Score\", \"Predicted Rating\", \"Absolute Error\", \"Evaluation Result\", \n",
    "                                    \"PSS Score Sharpened\", \"Predicted Rating Sharpened\",\"Absolute Error Sharpened\", \"Evaluation Result Sharpened\"])\n",
    "        for row in scores_comparison:\n",
    "            comparison_writer.writerow(row)\n",
    "\n",
    "    print('The file: ' + 'reviews_'+ name_datasets + '.csv' + ' was created')\n",
    "    return {\"Mean_Absolute_Error(MAE)\": mean_absolute_error,\"Mean_Absolute_Error(MAE)_Sharpened\":mean_absolute_error_sharpened}\n"
   ]
  },
  {
   "cell_type": "markdown",
   "metadata": {},
   "source": [
    "## 6. Open the datasets and their subsets to execute the comparison"
   ]
  },
  {
   "cell_type": "markdown",
   "metadata": {},
   "source": [
    "This function runs the test for more than one dataset and returns the **Mean Absolute Error** for each dataset as a dictionary. This allows us to compare not only the difference of the mean absolute error between the datasets of three different sizes."
   ]
  },
  {
   "cell_type": "code",
   "execution_count": 6,
   "metadata": {},
   "outputs": [],
   "source": [
    "def execute_test(datasets: Dict[str, str], partition_size):\n",
    "    \"\"\"Precondition: the dictionary should have the form {name_dataset:dataset} e.g., {\"small\":\"small.txt\",\"medium\":\"medium.txt\",\"full\":\"full.txt\"}  \n",
    "    Run compare_pss_models function for various datasets.\n",
    "    \"\"\"\n",
    "    for name in datasets:\n",
    "        with open(datasets[name], 'r') as file:\n",
    "            file_names = partition_dataset(file, name, partition_size)\n",
    "        with open(file_names['training'], 'r') as training_file:\n",
    "                kss = extract_kss(training_file)  \n",
    "        with open(file_names['test'], 'r') as test:\n",
    "            with open(most_common_words) as common_words_file:\n",
    "                testing_result = compare_pss_models(test, common_words_file, kss, name)\n",
    "                "
   ]
  },
  {
   "cell_type": "markdown",
   "metadata": {},
   "source": [
    "## 7. Calling the function and test the code by doctest.testmond()\n"
   ]
  },
  {
   "cell_type": "markdown",
   "metadata": {},
   "source": [
    "Here, we specify that only when this module is run as a script, we call excute_test() and do the testing by doctest.testmod()"
   ]
  },
  {
   "cell_type": "code",
   "execution_count": 7,
   "metadata": {},
   "outputs": [
    {
     "name": "stdout",
     "output_type": "stream",
     "text": [
      "The files: test_small.txt and training_small.txt were created\n",
      "The file: reviews_small.csv was created\n",
      "The files: test_medium.txt and training_medium.txt were created\n",
      "The file: reviews_medium.csv was created\n",
      "The files: test_full.txt and training_full.txt were created\n",
      "The file: reviews_full.csv was created\n"
     ]
    }
   ],
   "source": [
    "if __name__ == \"__main__\":\n",
    "    #Create a dictionary containing diferent datasets, in order to compare accuracies among each other.\n",
    "    datasets =  {\n",
    "        \"small\"     : \"small.txt\",\n",
    "        \"medium\"    : \"medium.txt\",\n",
    "        \"full\"      : \"full.txt\"\n",
    "    }        \n",
    "    \n",
    "    most_common_words = \"most_common_english_words.txt\"\n",
    "    execute_test(datasets, 0.1)\n",
    "    doctest.testmod()"
   ]
  },
  {
   "cell_type": "markdown",
   "metadata": {},
   "source": [
    "# Analysing the results\n",
    "Before the analysis, we have to load and read the result CSV files. We have done so for the datasets in three different sizes. We will provide analysis individually."
   ]
  },
  {
   "cell_type": "markdown",
   "metadata": {},
   "source": [
    "## The \"full\" dataset "
   ]
  },
  {
   "cell_type": "markdown",
   "metadata": {},
   "source": [
    "### The results in CSV table"
   ]
  },
  {
   "cell_type": "code",
   "execution_count": 8,
   "metadata": {
    "scrolled": true
   },
   "outputs": [
    {
     "data": {
      "text/html": [
       "<div>\n",
       "<style scoped>\n",
       "    .dataframe tbody tr th:only-of-type {\n",
       "        vertical-align: middle;\n",
       "    }\n",
       "\n",
       "    .dataframe tbody tr th {\n",
       "        vertical-align: top;\n",
       "    }\n",
       "\n",
       "    .dataframe thead th {\n",
       "        text-align: right;\n",
       "    }\n",
       "</style>\n",
       "<table border=\"1\" class=\"dataframe\">\n",
       "  <thead>\n",
       "    <tr style=\"text-align: right;\">\n",
       "      <th></th>\n",
       "      <th>Review</th>\n",
       "      <th>Actual Rating</th>\n",
       "      <th>PSS Score</th>\n",
       "      <th>Predicted Rating</th>\n",
       "      <th>Absolute Error</th>\n",
       "      <th>Evaluation Result</th>\n",
       "      <th>PSS Score Sharpened</th>\n",
       "      <th>Predicted Rating Sharpened</th>\n",
       "      <th>Absolute Error Sharpened</th>\n",
       "      <th>Evaluation Result Sharpened</th>\n",
       "    </tr>\n",
       "  </thead>\n",
       "  <tbody>\n",
       "    <tr>\n",
       "      <th>0</th>\n",
       "      <td>It 's light on the chills and heavy on the atm...</td>\n",
       "      <td>3</td>\n",
       "      <td>2.11</td>\n",
       "      <td>2</td>\n",
       "      <td>0.89</td>\n",
       "      <td>False</td>\n",
       "      <td>2.12</td>\n",
       "      <td>2</td>\n",
       "      <td>0.88</td>\n",
       "      <td>False</td>\n",
       "    </tr>\n",
       "    <tr>\n",
       "      <th>1</th>\n",
       "      <td>Coppola 's directorial debut is an incredibly ...</td>\n",
       "      <td>3</td>\n",
       "      <td>2.11</td>\n",
       "      <td>2</td>\n",
       "      <td>0.89</td>\n",
       "      <td>False</td>\n",
       "      <td>2.21</td>\n",
       "      <td>2</td>\n",
       "      <td>0.79</td>\n",
       "      <td>False</td>\n",
       "    </tr>\n",
       "    <tr>\n",
       "      <th>2</th>\n",
       "      <td>Arteta paints a picture of lives lived in a st...</td>\n",
       "      <td>3</td>\n",
       "      <td>2.43</td>\n",
       "      <td>2</td>\n",
       "      <td>0.57</td>\n",
       "      <td>False</td>\n",
       "      <td>2.78</td>\n",
       "      <td>3</td>\n",
       "      <td>0.22</td>\n",
       "      <td>False</td>\n",
       "    </tr>\n",
       "    <tr>\n",
       "      <th>3</th>\n",
       "      <td>The film becomes an overwhelming pleasure , an...</td>\n",
       "      <td>3</td>\n",
       "      <td>1.98</td>\n",
       "      <td>2</td>\n",
       "      <td>1.02</td>\n",
       "      <td>False</td>\n",
       "      <td>1.79</td>\n",
       "      <td>2</td>\n",
       "      <td>1.21</td>\n",
       "      <td>False</td>\n",
       "    </tr>\n",
       "    <tr>\n",
       "      <th>4</th>\n",
       "      <td>It throws quirky characters , odd situations ,...</td>\n",
       "      <td>3</td>\n",
       "      <td>2.06</td>\n",
       "      <td>2</td>\n",
       "      <td>0.94</td>\n",
       "      <td>False</td>\n",
       "      <td>2.17</td>\n",
       "      <td>2</td>\n",
       "      <td>0.83</td>\n",
       "      <td>False</td>\n",
       "    </tr>\n",
       "  </tbody>\n",
       "</table>\n",
       "</div>"
      ],
      "text/plain": [
       "                                              Review  Actual Rating  \\\n",
       "0  It 's light on the chills and heavy on the atm...              3   \n",
       "1  Coppola 's directorial debut is an incredibly ...              3   \n",
       "2  Arteta paints a picture of lives lived in a st...              3   \n",
       "3  The film becomes an overwhelming pleasure , an...              3   \n",
       "4  It throws quirky characters , odd situations ,...              3   \n",
       "\n",
       "   PSS Score  Predicted Rating  Absolute Error  Evaluation Result  \\\n",
       "0       2.11                 2            0.89              False   \n",
       "1       2.11                 2            0.89              False   \n",
       "2       2.43                 2            0.57              False   \n",
       "3       1.98                 2            1.02              False   \n",
       "4       2.06                 2            0.94              False   \n",
       "\n",
       "   PSS Score Sharpened  Predicted Rating Sharpened  Absolute Error Sharpened  \\\n",
       "0                 2.12                           2                      0.88   \n",
       "1                 2.21                           2                      0.79   \n",
       "2                 2.78                           3                      0.22   \n",
       "3                 1.79                           2                      1.21   \n",
       "4                 2.17                           2                      0.83   \n",
       "\n",
       "   Evaluation Result Sharpened  \n",
       "0                        False  \n",
       "1                        False  \n",
       "2                        False  \n",
       "3                        False  \n",
       "4                        False  "
      ]
     },
     "execution_count": 8,
     "metadata": {},
     "output_type": "execute_result"
    }
   ],
   "source": [
    "evaluated_reviews_full = pd.read_csv('reviews_full.csv', header=2)\n",
    "evaluated_reviews_full.head()"
   ]
  },
  {
   "cell_type": "markdown",
   "metadata": {},
   "source": [
    "### The Mean Absolute Errors\n",
    "The sharpend model had lower the mean absolute errors in full dataset by 0.06458"
   ]
  },
  {
   "cell_type": "code",
   "execution_count": 9,
   "metadata": {
    "scrolled": true
   },
   "outputs": [
    {
     "data": {
      "text/html": [
       "<div>\n",
       "<style scoped>\n",
       "    .dataframe tbody tr th:only-of-type {\n",
       "        vertical-align: middle;\n",
       "    }\n",
       "\n",
       "    .dataframe tbody tr th {\n",
       "        vertical-align: top;\n",
       "    }\n",
       "\n",
       "    .dataframe thead th {\n",
       "        text-align: right;\n",
       "    }\n",
       "</style>\n",
       "<table border=\"1\" class=\"dataframe\">\n",
       "  <thead>\n",
       "    <tr style=\"text-align: right;\">\n",
       "      <th></th>\n",
       "      <th>Mean Absolute Error(MAE): 1.00913</th>\n",
       "      <th>Mean Absolute Error(MAE)   Sharpened: 0.94094</th>\n",
       "    </tr>\n",
       "  </thead>\n",
       "  <tbody>\n",
       "  </tbody>\n",
       "</table>\n",
       "</div>"
      ],
      "text/plain": [
       "Empty DataFrame\n",
       "Columns: [Mean Absolute Error(MAE): 1.00913, Mean Absolute Error(MAE)   Sharpened: 0.94094]\n",
       "Index: []"
      ]
     },
     "execution_count": 9,
     "metadata": {},
     "output_type": "execute_result"
    }
   ],
   "source": [
    "pd.read_csv('reviews_full.csv', nrows=0)"
   ]
  },
  {
   "cell_type": "markdown",
   "metadata": {},
   "source": [
    "### The number of predictions that are significantly close to the actual rating\n",
    "However, the number of close predictions is lowered from 40 to 27."
   ]
  },
  {
   "cell_type": "code",
   "execution_count": 10,
   "metadata": {},
   "outputs": [
    {
     "data": {
      "text/plain": [
       "False    808\n",
       "True      32\n",
       "Name: Evaluation Result, dtype: int64"
      ]
     },
     "execution_count": 10,
     "metadata": {},
     "output_type": "execute_result"
    }
   ],
   "source": [
    "evaluated_reviews_full[\"Evaluation Result\"].value_counts()"
   ]
  },
  {
   "cell_type": "code",
   "execution_count": 11,
   "metadata": {},
   "outputs": [
    {
     "data": {
      "text/plain": [
       "False    817\n",
       "True      23\n",
       "Name: Evaluation Result Sharpened, dtype: int64"
      ]
     },
     "execution_count": 11,
     "metadata": {},
     "output_type": "execute_result"
    }
   ],
   "source": [
    "evaluated_reviews_full[\"Evaluation Result Sharpened\"].value_counts()"
   ]
  },
  {
   "cell_type": "markdown",
   "metadata": {},
   "source": [
    "## The \"medium\" dataset"
   ]
  },
  {
   "cell_type": "code",
   "execution_count": 12,
   "metadata": {},
   "outputs": [
    {
     "data": {
      "text/html": [
       "<div>\n",
       "<style scoped>\n",
       "    .dataframe tbody tr th:only-of-type {\n",
       "        vertical-align: middle;\n",
       "    }\n",
       "\n",
       "    .dataframe tbody tr th {\n",
       "        vertical-align: top;\n",
       "    }\n",
       "\n",
       "    .dataframe thead th {\n",
       "        text-align: right;\n",
       "    }\n",
       "</style>\n",
       "<table border=\"1\" class=\"dataframe\">\n",
       "  <thead>\n",
       "    <tr style=\"text-align: right;\">\n",
       "      <th></th>\n",
       "      <th>Review</th>\n",
       "      <th>Actual Rating</th>\n",
       "      <th>PSS Score</th>\n",
       "      <th>Predicted Rating</th>\n",
       "      <th>Absolute Error</th>\n",
       "      <th>Evaluation Result</th>\n",
       "      <th>PSS Score Sharpened</th>\n",
       "      <th>Predicted Rating Sharpened</th>\n",
       "      <th>Absolute Error Sharpened</th>\n",
       "      <th>Evaluation Result Sharpened</th>\n",
       "    </tr>\n",
       "  </thead>\n",
       "  <tbody>\n",
       "    <tr>\n",
       "      <th>0</th>\n",
       "      <td>Competently directed but terminally cute drama .</td>\n",
       "      <td>3</td>\n",
       "      <td>1.24</td>\n",
       "      <td>1</td>\n",
       "      <td>1.76</td>\n",
       "      <td>False</td>\n",
       "      <td>0.50</td>\n",
       "      <td>0</td>\n",
       "      <td>2.50</td>\n",
       "      <td>False</td>\n",
       "    </tr>\n",
       "    <tr>\n",
       "      <th>1</th>\n",
       "      <td>The film 's plot may be shallow , but you 've ...</td>\n",
       "      <td>3</td>\n",
       "      <td>2.16</td>\n",
       "      <td>2</td>\n",
       "      <td>0.84</td>\n",
       "      <td>False</td>\n",
       "      <td>2.54</td>\n",
       "      <td>3</td>\n",
       "      <td>0.46</td>\n",
       "      <td>False</td>\n",
       "    </tr>\n",
       "    <tr>\n",
       "      <th>2</th>\n",
       "      <td>Smart and fun , but far more witty than it is ...</td>\n",
       "      <td>3</td>\n",
       "      <td>2.09</td>\n",
       "      <td>2</td>\n",
       "      <td>0.91</td>\n",
       "      <td>False</td>\n",
       "      <td>2.28</td>\n",
       "      <td>2</td>\n",
       "      <td>0.72</td>\n",
       "      <td>False</td>\n",
       "    </tr>\n",
       "    <tr>\n",
       "      <th>3</th>\n",
       "      <td>This masterfully calibrated psychological thri...</td>\n",
       "      <td>3</td>\n",
       "      <td>2.11</td>\n",
       "      <td>2</td>\n",
       "      <td>0.89</td>\n",
       "      <td>False</td>\n",
       "      <td>2.23</td>\n",
       "      <td>2</td>\n",
       "      <td>0.77</td>\n",
       "      <td>False</td>\n",
       "    </tr>\n",
       "    <tr>\n",
       "      <th>4</th>\n",
       "      <td>The Mothman Prophecies is best when illustrati...</td>\n",
       "      <td>3</td>\n",
       "      <td>2.03</td>\n",
       "      <td>2</td>\n",
       "      <td>0.97</td>\n",
       "      <td>False</td>\n",
       "      <td>2.12</td>\n",
       "      <td>2</td>\n",
       "      <td>0.88</td>\n",
       "      <td>False</td>\n",
       "    </tr>\n",
       "  </tbody>\n",
       "</table>\n",
       "</div>"
      ],
      "text/plain": [
       "                                              Review  Actual Rating  \\\n",
       "0   Competently directed but terminally cute drama .              3   \n",
       "1  The film 's plot may be shallow , but you 've ...              3   \n",
       "2  Smart and fun , but far more witty than it is ...              3   \n",
       "3  This masterfully calibrated psychological thri...              3   \n",
       "4  The Mothman Prophecies is best when illustrati...              3   \n",
       "\n",
       "   PSS Score  Predicted Rating  Absolute Error  Evaluation Result  \\\n",
       "0       1.24                 1            1.76              False   \n",
       "1       2.16                 2            0.84              False   \n",
       "2       2.09                 2            0.91              False   \n",
       "3       2.11                 2            0.89              False   \n",
       "4       2.03                 2            0.97              False   \n",
       "\n",
       "   PSS Score Sharpened  Predicted Rating Sharpened  Absolute Error Sharpened  \\\n",
       "0                 0.50                           0                      2.50   \n",
       "1                 2.54                           3                      0.46   \n",
       "2                 2.28                           2                      0.72   \n",
       "3                 2.23                           2                      0.77   \n",
       "4                 2.12                           2                      0.88   \n",
       "\n",
       "   Evaluation Result Sharpened  \n",
       "0                        False  \n",
       "1                        False  \n",
       "2                        False  \n",
       "3                        False  \n",
       "4                        False  "
      ]
     },
     "execution_count": 12,
     "metadata": {},
     "output_type": "execute_result"
    }
   ],
   "source": [
    "evaluated_reviews_medium = pd.read_csv('reviews_medium.csv', header=2)\n",
    "evaluated_reviews_medium.head()"
   ]
  },
  {
   "cell_type": "markdown",
   "metadata": {},
   "source": [
    "### The Mean Absolute Errors\n",
    "The sharpend model had lower the mean absolute errors in medium dataset by 0.01204. However, we found that the mean absolute errors in medium dataset is more unrealiable than the full dataset because the value we got every time varies more."
   ]
  },
  {
   "cell_type": "code",
   "execution_count": 13,
   "metadata": {
    "scrolled": true
   },
   "outputs": [
    {
     "data": {
      "text/html": [
       "<div>\n",
       "<style scoped>\n",
       "    .dataframe tbody tr th:only-of-type {\n",
       "        vertical-align: middle;\n",
       "    }\n",
       "\n",
       "    .dataframe tbody tr th {\n",
       "        vertical-align: top;\n",
       "    }\n",
       "\n",
       "    .dataframe thead th {\n",
       "        text-align: right;\n",
       "    }\n",
       "</style>\n",
       "<table border=\"1\" class=\"dataframe\">\n",
       "  <thead>\n",
       "    <tr style=\"text-align: right;\">\n",
       "      <th></th>\n",
       "      <th>Mean Absolute Error(MAE): 1.11187</th>\n",
       "      <th>Mean Absolute Error(MAE)   Sharpened: 1.05667</th>\n",
       "    </tr>\n",
       "  </thead>\n",
       "  <tbody>\n",
       "  </tbody>\n",
       "</table>\n",
       "</div>"
      ],
      "text/plain": [
       "Empty DataFrame\n",
       "Columns: [Mean Absolute Error(MAE): 1.11187, Mean Absolute Error(MAE)   Sharpened: 1.05667]\n",
       "Index: []"
      ]
     },
     "execution_count": 13,
     "metadata": {},
     "output_type": "execute_result"
    }
   ],
   "source": [
    "pd.read_csv('reviews_medium.csv', nrows=0)"
   ]
  },
  {
   "cell_type": "markdown",
   "metadata": {},
   "source": [
    "### The number of predictions that are significantly close to the actual rating\n",
    "The number of close predictions is raised from 2 to 3."
   ]
  },
  {
   "cell_type": "code",
   "execution_count": 14,
   "metadata": {},
   "outputs": [
    {
     "data": {
      "text/plain": [
       "False    46\n",
       "True      2\n",
       "Name: Evaluation Result, dtype: int64"
      ]
     },
     "execution_count": 14,
     "metadata": {},
     "output_type": "execute_result"
    }
   ],
   "source": [
    "evaluated_reviews_medium[\"Evaluation Result\"].value_counts()"
   ]
  },
  {
   "cell_type": "code",
   "execution_count": 15,
   "metadata": {},
   "outputs": [
    {
     "data": {
      "text/plain": [
       "False    46\n",
       "True      2\n",
       "Name: Evaluation Result Sharpened, dtype: int64"
      ]
     },
     "execution_count": 15,
     "metadata": {},
     "output_type": "execute_result"
    }
   ],
   "source": [
    "evaluated_reviews_medium[\"Evaluation Result Sharpened\"].value_counts()"
   ]
  },
  {
   "cell_type": "markdown",
   "metadata": {},
   "source": [
    "## The \"small\" dataset"
   ]
  },
  {
   "cell_type": "code",
   "execution_count": 16,
   "metadata": {},
   "outputs": [
    {
     "data": {
      "text/html": [
       "<div>\n",
       "<style scoped>\n",
       "    .dataframe tbody tr th:only-of-type {\n",
       "        vertical-align: middle;\n",
       "    }\n",
       "\n",
       "    .dataframe tbody tr th {\n",
       "        vertical-align: top;\n",
       "    }\n",
       "\n",
       "    .dataframe thead th {\n",
       "        text-align: right;\n",
       "    }\n",
       "</style>\n",
       "<table border=\"1\" class=\"dataframe\">\n",
       "  <thead>\n",
       "    <tr style=\"text-align: right;\">\n",
       "      <th></th>\n",
       "      <th>Review</th>\n",
       "      <th>Actual Rating</th>\n",
       "      <th>PSS Score</th>\n",
       "      <th>Predicted Rating</th>\n",
       "      <th>Absolute Error</th>\n",
       "      <th>Evaluation Result</th>\n",
       "      <th>PSS Score Sharpened</th>\n",
       "      <th>Predicted Rating Sharpened</th>\n",
       "      <th>Absolute Error Sharpened</th>\n",
       "      <th>Evaluation Result Sharpened</th>\n",
       "    </tr>\n",
       "  </thead>\n",
       "  <tbody>\n",
       "    <tr>\n",
       "      <th>0</th>\n",
       "      <td>It makes you believe the cast and crew thoroug...</td>\n",
       "      <td>3</td>\n",
       "      <td>2.07</td>\n",
       "      <td>2</td>\n",
       "      <td>0.93</td>\n",
       "      <td>False</td>\n",
       "      <td>2.0</td>\n",
       "      <td>2</td>\n",
       "      <td>1.0</td>\n",
       "      <td>False</td>\n",
       "    </tr>\n",
       "  </tbody>\n",
       "</table>\n",
       "</div>"
      ],
      "text/plain": [
       "                                              Review  Actual Rating  \\\n",
       "0  It makes you believe the cast and crew thoroug...              3   \n",
       "\n",
       "   PSS Score  Predicted Rating  Absolute Error  Evaluation Result  \\\n",
       "0       2.07                 2            0.93              False   \n",
       "\n",
       "   PSS Score Sharpened  Predicted Rating Sharpened  Absolute Error Sharpened  \\\n",
       "0                  2.0                           2                       1.0   \n",
       "\n",
       "   Evaluation Result Sharpened  \n",
       "0                        False  "
      ]
     },
     "execution_count": 16,
     "metadata": {},
     "output_type": "execute_result"
    }
   ],
   "source": [
    "evaluated_reviews_small = pd.read_csv('reviews_small.csv', header=2)\n",
    "evaluated_reviews_small.head()"
   ]
  },
  {
   "cell_type": "markdown",
   "metadata": {},
   "source": [
    "### The Mean Absolute Errors\n",
    "The sharpend model had lower the mean absolute errors in small dataset by 0.01204. However, we found that the mean absolute errors in small dataset is much more unrealiable than the full and medium dataset because the value we got every time varies much more."
   ]
  },
  {
   "cell_type": "code",
   "execution_count": 17,
   "metadata": {
    "scrolled": true
   },
   "outputs": [
    {
     "data": {
      "text/html": [
       "<div>\n",
       "<style scoped>\n",
       "    .dataframe tbody tr th:only-of-type {\n",
       "        vertical-align: middle;\n",
       "    }\n",
       "\n",
       "    .dataframe tbody tr th {\n",
       "        vertical-align: top;\n",
       "    }\n",
       "\n",
       "    .dataframe thead th {\n",
       "        text-align: right;\n",
       "    }\n",
       "</style>\n",
       "<table border=\"1\" class=\"dataframe\">\n",
       "  <thead>\n",
       "    <tr style=\"text-align: right;\">\n",
       "      <th></th>\n",
       "      <th>Mean Absolute Error(MAE): 0.93</th>\n",
       "      <th>Mean Absolute Error(MAE)   Sharpened: 1.0</th>\n",
       "    </tr>\n",
       "  </thead>\n",
       "  <tbody>\n",
       "  </tbody>\n",
       "</table>\n",
       "</div>"
      ],
      "text/plain": [
       "Empty DataFrame\n",
       "Columns: [Mean Absolute Error(MAE): 0.93, Mean Absolute Error(MAE)   Sharpened: 1.0]\n",
       "Index: []"
      ]
     },
     "execution_count": 17,
     "metadata": {},
     "output_type": "execute_result"
    }
   ],
   "source": [
    "pd.read_csv('reviews_small.csv', nrows=0)"
   ]
  },
  {
   "cell_type": "markdown",
   "metadata": {},
   "source": [
    "### The number of predictions that are significantly close to the actual rating\n",
    "The number of close predictions is not changed"
   ]
  },
  {
   "cell_type": "code",
   "execution_count": 18,
   "metadata": {},
   "outputs": [
    {
     "data": {
      "text/plain": [
       "False    1\n",
       "Name: Evaluation Result, dtype: int64"
      ]
     },
     "execution_count": 18,
     "metadata": {},
     "output_type": "execute_result"
    }
   ],
   "source": [
    "evaluated_reviews_small[\"Evaluation Result\"].value_counts()"
   ]
  },
  {
   "cell_type": "code",
   "execution_count": 19,
   "metadata": {},
   "outputs": [
    {
     "data": {
      "text/plain": [
       "False    1\n",
       "Name: Evaluation Result Sharpened, dtype: int64"
      ]
     },
     "execution_count": 19,
     "metadata": {},
     "output_type": "execute_result"
    }
   ],
   "source": [
    "evaluated_reviews_small[\"Evaluation Result Sharpened\"].value_counts()"
   ]
  },
  {
   "cell_type": "markdown",
   "metadata": {},
   "source": [
    "## Visualizing the results\n",
    "Now, we need to plot a histogram which is a good tool to interpret the distribution of the reviews. The result had shown us that the PSS scores in full and medium datasets are more affected than the small dataset by the sharpened modal. We can also see that the sharpened models redistribute the scores by increasing the number of scores in the non-neutral zone."
   ]
  },
  {
   "cell_type": "code",
   "execution_count": 20,
   "metadata": {
    "scrolled": true
   },
   "outputs": [
    {
     "data": {
      "image/png": "[encoded data removed]",
      "text/plain": [
       "<Figure size 1008x216 with 3 Axes>"
      ]
     },
     "metadata": {
      "needs_background": "light"
     },
     "output_type": "display_data"
    },
    {
     "data": {
      "image/png": "[encoded data removed]",
      "text/plain": [
       "<Figure size 1008x216 with 3 Axes>"
      ]
     },
     "metadata": {
      "needs_background": "light"
     },
     "output_type": "display_data"
    },
    {
     "data": {
      "image/png": "[encoded data removed]",
      "text/plain": [
       "<Figure size 1008x216 with 3 Axes>"
      ]
     },
     "metadata": {
      "needs_background": "light"
     },
     "output_type": "display_data"
    }
   ],
   "source": [
    "#Distributions for Full dataset\n",
    "plots_size = (14,3)\n",
    "plt.figure(1, figsize=plots_size)\n",
    "#Subplot 1\n",
    "original = plt.subplot(131)\n",
    "original.hist(evaluated_reviews_full['Actual Rating'], bins=5, alpha=0.5, label='PSS')\n",
    "original.set_title('Actual Rating')\n",
    "original.set_xlabel('Scores Full')\n",
    "original.set_ylabel('Reviews Full')\n",
    "#Subplot 2\n",
    "predicted = plt.subplot(132)\n",
    "predicted.hist(evaluated_reviews_full['PSS Score'], bins=5, alpha=0.5, label='PSS', color='#00A658')\n",
    "predicted.set_title('PSS Score')\n",
    "predicted.set_xlabel('Scores Full')\n",
    "predicted.set_ylabel('Reviews Full')\n",
    "#Subplot 3\n",
    "predicted_sharpen = plt.subplot(133)\n",
    "predicted_sharpen.hist(evaluated_reviews_full['PSS Score Sharpened'], bins=5, alpha=0.5, label='PSS Sharpen', color='#2300A8')\n",
    "predicted_sharpen.set_title('PSS Score Sharpened')\n",
    "predicted_sharpen.set_xlabel('Scores Full')\n",
    "predicted_sharpen.set_ylabel('Reviews Full')\n",
    "\n",
    "#Distributions for Medium dataset\n",
    "plots_size = (14,3)\n",
    "plt.figure(2, figsize=plots_size)\n",
    "#Subplot 1\n",
    "original = plt.subplot(131)\n",
    "original.hist(evaluated_reviews_medium['Actual Rating'], bins=5, alpha=0.5, label='PSS')\n",
    "original.set_title('Actual Rating')\n",
    "original.set_xlabel('Scores Medium')\n",
    "original.set_ylabel('Reviews Medium')\n",
    "#Subplot 2\n",
    "predicted = plt.subplot(132)\n",
    "predicted.hist(evaluated_reviews_medium['PSS Score'], bins=5, alpha=0.5, label='PSS', color='#00A658')\n",
    "predicted.set_title('PSS Score')\n",
    "predicted.set_xlabel('Scores Medium')\n",
    "predicted.set_ylabel('Reviews Medium')\n",
    "#Subplot 3\n",
    "predicted_sharpen = plt.subplot(133)\n",
    "predicted_sharpen.hist(evaluated_reviews_medium['PSS Score Sharpened'], bins=5, alpha=0.5, label='PSS Sharpen', color='#2300A8')\n",
    "predicted_sharpen.set_title('PSS Score Sharpened')\n",
    "predicted_sharpen.set_xlabel('Scores Medium')\n",
    "predicted_sharpen.set_ylabel('Reviews Medium')\n",
    "\n",
    "#Distributions for Small dataset\n",
    "plots_size = (14,3)\n",
    "plt.figure(3, figsize=plots_size)\n",
    "#Subplot 1\n",
    "original = plt.subplot(131)\n",
    "original.hist(evaluated_reviews_small['Actual Rating'], bins=5, alpha=0.5, label='PSS')\n",
    "original.set_title('Actual Rating')\n",
    "original.set_xlabel('Scores Small')\n",
    "original.set_ylabel('Reviews Small')\n",
    "#Subplot 2\n",
    "predicted = plt.subplot(132)\n",
    "predicted.hist(evaluated_reviews_small['PSS Score'], bins=5, alpha=0.5, label='PSS', color='#00A658')\n",
    "predicted.set_title('PSS Score')\n",
    "predicted.set_xlabel('Scores Small')\n",
    "predicted.set_ylabel('Reviews Small')\n",
    "#Subplot 3\n",
    "predicted_sharpen = plt.subplot(133)\n",
    "predicted_sharpen.hist(evaluated_reviews_small['PSS Score Sharpened'], bins=5, alpha=0.5, label='PSS Sharpen', color='#2300A8')\n",
    "predicted_sharpen.set_title('PSS Score Sharpened')\n",
    "predicted_sharpen.set_xlabel('Scores Small')\n",
    "predicted_sharpen.set_ylabel('Reviews Small')\n",
    "\n",
    "plt.show()"
   ]
  },
  {
   "cell_type": "code",
   "execution_count": 27,
   "metadata": {},
   "outputs": [
    {
     "data": {
      "image/png": "[encoded data removed]",
      "text/plain": [
       "<Figure size 1008x216 with 3 Axes>"
      ]
     },
     "metadata": {
      "needs_background": "light"
     },
     "output_type": "display_data"
    },
    {
     "data": {
      "image/png": "[encoded data removed]",
      "text/plain": [
       "<Figure size 1008x216 with 3 Axes>"
      ]
     },
     "metadata": {
      "needs_background": "light"
     },
     "output_type": "display_data"
    }
   ],
   "source": [
    "#Distributions for Full dataset\n",
    "plots_size = (14,3)\n",
    "plt.figure(1, figsize=plots_size)\n",
    "#Subplot 1\n",
    "original = plt.subplot(131)\n",
    "original.hist(evaluated_reviews_full['Actual Rating'], bins=5, alpha=0.5, label='PSS')\n",
    "original.set_title('Actual Rating')\n",
    "original.set_xlabel('Scores Full')\n",
    "original.set_ylabel('Reviews Full')\n",
    "#Subplot 2\n",
    "predicted = plt.subplot(132)\n",
    "predicted.hist(evaluated_reviews_full['PSS Score'], bins=5, alpha=0.5, label='PSS', color='#00A658')\n",
    "predicted.set_title('PSS Score')\n",
    "predicted.set_xlabel('Scores Full')\n",
    "predicted.set_ylabel('Reviews Full')\n",
    "#Subplot 3\n",
    "predicted_sharpen = plt.subplot(133)\n",
    "predicted_sharpen.hist(evaluated_reviews_full['PSS Score Sharpened'], bins=5, alpha=0.5, label='PSS Sharpen', color='#2300A8')\n",
    "predicted_sharpen.set_title('PSS Score Sharpened')\n",
    "predicted_sharpen.set_xlabel('Scores Full')\n",
    "predicted_sharpen.set_ylabel('Reviews Full')\n",
    "\n",
    "#Distributions for Medium dataset\n",
    "plots_size = (14,3)\n",
    "plt.figure(2, figsize=plots_size)\n",
    "#Subplot 1\n",
    "original = plt.subplot(131)\n",
    "original.hist(evaluated_reviews_full['Actual Rating'], bins=5, alpha=0.5, label='PSS')\n",
    "original.set_title('Actual Rating')\n",
    "original.set_xlabel('Scores Full')\n",
    "original.set_ylabel('Reviews Full')\n",
    "#Subplot 2\n",
    "predicted = plt.subplot(132)\n",
    "predicted.hist(evaluated_reviews_full['Predicted Rating'], bins=5, alpha=0.5, label='PSS', color='#00A658')\n",
    "predicted.set_title('Predicted Rating')\n",
    "predicted.set_xlabel('Scores Full')\n",
    "predicted.set_ylabel('Reviews Full')\n",
    "#Subplot 3\n",
    "predicted_sharpen = plt.subplot(133)\n",
    "predicted_sharpen.hist(evaluated_reviews_full['Predicted Rating Sharpened'], bins=5, alpha=0.5, label='PSS Sharpen', color='#2300A8')\n",
    "predicted_sharpen.set_title('Predicted Rating Sharpened')\n",
    "predicted_sharpen.set_xlabel('Scores Full')\n",
    "predicted_sharpen.set_ylabel('Reviews Full')\n",
    "\n",
    "plt.show()"
   ]
  },
  {
   "cell_type": "code",
   "execution_count": null,
   "metadata": {},
   "outputs": [],
   "source": []
  }
 ],
 "metadata": {
  "kernelspec": {
   "display_name": "Python 3",
   "language": "python",
   "name": "python3"
  },
  "language_info": {
   "codemirror_mode": {
    "name": "ipython",
    "version": 3
   },
   "file_extension": ".py",
   "mimetype": "text/x-python",
   "name": "python",
   "nbconvert_exporter": "python",
   "pygments_lexer": "ipython3",
   "version": "3.7.3"
  }
 },
 "nbformat": 4,
 "nbformat_minor": 2
}
